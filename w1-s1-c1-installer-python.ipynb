{
 "metadata": {
  "kernelspec": {
   "display_name": "Python 2",
   "language": "python",
   "name": "python2"
  },
  "language_info": {
   "codemirror_mode": {
    "name": "ipython",
    "version": 2
   },
   "file_extension": ".py",
   "mimetype": "text/x-python",
   "name": "python",
   "nbconvert_exporter": "python",
   "pygments_lexer": "ipython2",
   "version": "2.7.11"
  },
  "name": "",
  "notebookname": "Installer python-2.7",
  "signature": "sha256:616835f3ede3c92a43325f8383a31239a2621bb55557aa98f4028f8a41eb6d63",
  "version": "2.0"
 },
 "nbformat": 3,
 "nbformat_minor": 0,
 "worksheets": [
  {
   "cells": [
    {
     "cell_type": "markdown",
     "metadata": {},
     "source": [
      "<span style=\"float:left;\">Licence - HimoCrypto Developpers / HimoCrypto Python</span><span style=\"float:right;\"> by Youssef BenAbdelAli MAHTAT</span><br/>"
     ]
    },
    {
     "cell_type": "markdown",
     "metadata": {},
     "source": [
      "# Installer la distribution standard python"
     ]
    },
    {
     "cell_type": "markdown",
     "metadata": {},
     "source": [
      "## Compl\u00e9ment - niveau basique"
     ]
    },
    {
     "cell_type": "markdown",
     "metadata": {},
     "source": [
      "Comme expliqu\u00e9 dans la vid\u00e9o d'introduction, vous rencontrez pour la premi\u00e8re fois un exemple de \"notebook\", dans une version simplifi\u00e9e puisqu'il ne contient aucun fragment de code pour l'instant."
     ]
    },
    {
     "cell_type": "markdown",
     "metadata": {},
     "source": [
      "Ce tout premier compl\u00e9ment a pour but de vous donner quelques guides pour l'installation de la distribution standard python 2.7. Ce sera la seule fois dans le cours o\u00f9 nous aurons besoin de d\u00e9tailler des variantes selon votre syst\u00e8me d'exploitation."
     ]
    },
    {
     "cell_type": "markdown",
     "metadata": {},
     "source": [
      "Notez bien qu'il ne s'agit ici que d'indications, il existe de nombreuses fa\u00e7ons de proc\u00e9der.\n",
      "\n",
      "En cas de souci, commencez par chercher par vous-m\u00eame sur google ou autre une solution \u00e0 votre probl\u00e8me. "
     ]
    },
    {
     "cell_type": "markdown",
     "metadata": {},
     "source": [
      "Le point important est de **bien v\u00e9rifier le num\u00e9ro de version** de votre installation qui doit \u00eatre 2.7.*x*"
     ]
    },
    {
     "cell_type": "markdown",
     "metadata": {},
     "source": [
      "# Installation de base"
     ]
    },
    {
     "cell_type": "markdown",
     "metadata": {},
     "source": [
      "### Vous utilisez Windows"
     ]
    },
    {
     "cell_type": "markdown",
     "metadata": {},
     "source": [
      "La m\u00e9thode recommand\u00e9e sur Windows est de partir de la page  https://www.python.org/download\n",
      "o\u00f9 vous trouverez un programme d'installation qui contient tout ce dont vous aurez besoin pour suivre le cours.\n",
      "\n",
      "Pour v\u00e9rifier que vous \u00eates pr\u00eats, il vous faut lancer IDLE (quelque part dans le menu D\u00e9marrer) et v\u00e9rifier le num\u00e9ro de version."
     ]
    },
    {
     "cell_type": "markdown",
     "metadata": {},
     "source": [
      "### Vous utilisez MacOS"
     ]
    },
    {
     "cell_type": "markdown",
     "metadata": {},
     "source": [
      "Ici encore, la m\u00e9thode recommand\u00e9e est de partir de la page https://www.python.org/download\n",
      "et d'utiliser le programme d'installation.\n",
      "\n",
      "Sachez aussi, si vous utilisez d\u00e9j\u00e0 MacPorts (https://www.macports.org), que vous pouvez \u00e9galement utiliser cet outil pour installer python 2.7 avec la commande"
     ]
    },
    {
     "cell_type": "markdown",
     "metadata": {},
     "source": [
      "    $ sudo port install python27"
     ]
    },
    {
     "cell_type": "markdown",
     "metadata": {},
     "source": [
      "### Vous utilisez Linux"
     ]
    },
    {
     "cell_type": "markdown",
     "metadata": {},
     "source": [
      "Dans ce cas il y est tr\u00e8s probable que python-2.7 est d\u00e9j\u00e0 disponible sur votre machine. Pour vous en assurer, essayez de lancer la commande `python` dans un terminal. "
     ]
    },
    {
     "cell_type": "markdown",
     "metadata": {},
     "source": [
      "##### Redhat / Fedora"
     ]
    },
    {
     "cell_type": "markdown",
     "metadata": {},
     "source": [
      "Voici par exemple ce qu'on obtient depuis un terminal sur une machine install\u00e9e en Fedora-20 "
     ]
    },
    {
     "cell_type": "markdown",
     "metadata": {},
     "source": [
      "    $ python\n",
      "    Python 2.7.5 (default, Feb 19 2014, 13:47:28)\n",
      "    [GCC 4.8.2 20131212 (Red Hat 4.8.2-7)] on linux2\n",
      "    Type \"help\", \"copyright\", \"credits\" or \"license\" for more information.\n",
      "    >>> exit()\n",
      "    "
     ]
    },
    {
     "cell_type": "markdown",
     "metadata": {},
     "source": [
      "**V\u00e9rifiez bien le num\u00e9ro de version** qui doit \u00eatre en 2.7. Si vous obtenez un message du style `python: command not found` utilisez `yum` pour installer le rpm `python` comme ceci"
     ]
    },
    {
     "cell_type": "markdown",
     "metadata": {},
     "source": [
      "    $ sudo yum install python"
     ]
    },
    {
     "cell_type": "markdown",
     "metadata": {},
     "source": [
      "S'agissant de `idle`, l'\u00e9diteur que nous utilisons dans le cours (optionnel si vous \u00eates familier avec un \u00e9diteur de texte), v\u00e9rifiez sa pr\u00e9sence comme ceci"
     ]
    },
    {
     "cell_type": "markdown",
     "metadata": {},
     "source": [
      "    $ type idle\n",
      "    idle is hashed (/usr/bin/idle)"
     ]
    },
    {
     "cell_type": "markdown",
     "metadata": {},
     "source": [
      "Ici encore, si la commande n'est pas disponible vous pouvez l'installer avec"
     ]
    },
    {
     "cell_type": "markdown",
     "metadata": {},
     "source": [
      "    $ sudo yum install python-tools"
     ]
    },
    {
     "cell_type": "markdown",
     "metadata": {},
     "source": [
      "##### Debian / Ubuntu"
     ]
    },
    {
     "cell_type": "markdown",
     "metadata": {},
     "source": [
      "Ici encore, python-2.7 est sans doute d\u00e9ja disponible. Proc\u00e9dez comme ci-dessus, voici un exemple recueilli dans un terminal sur une machine install\u00e9e en Ubuntu-14.04/trusty"
     ]
    },
    {
     "cell_type": "markdown",
     "metadata": {},
     "source": [
      "    $ python\n",
      "    Python 2.7.6 (default, Mar 22 2014, 22:59:56)\n",
      "    [GCC 4.8.2] on linux2\n",
      "    Type \"help\", \"copyright\", \"credits\" or \"license\" for more information.\n",
      "    >>> exit()"
     ]
    },
    {
     "cell_type": "markdown",
     "metadata": {},
     "source": [
      "Pour installer python"
     ]
    },
    {
     "cell_type": "markdown",
     "metadata": {},
     "source": [
      "    $ sudo apt-get install python"
     ]
    },
    {
     "cell_type": "markdown",
     "metadata": {},
     "source": [
      "Pour installer idle"
     ]
    },
    {
     "cell_type": "markdown",
     "metadata": {},
     "source": [
      "    $ sudo apt-get install idle"
     ]
    },
    {
     "cell_type": "markdown",
     "metadata": {},
     "source": [
      "# Installation de librairies compl\u00e9mentaires"
     ]
    },
    {
     "cell_type": "markdown",
     "metadata": {},
     "source": [
      "Il existe un outil tr\u00e8s pratique pour installer les librairies python, il s'appelle `pip`, qui est document\u00e9 ici https://pypi.python.org/pypi/pip"
     ]
    },
    {
     "cell_type": "markdown",
     "metadata": {},
     "source": [
      "Sachez aussi, si par ailleurs vous utilisez un gestionnaire de package comme `rpm` sur RedHat, `apt-get` sur debian, ou `port` sur MacOS, que de nombreux packages sont \u00e9galement disponibles au travers de ces outils."
     ]
    }
   ],
   "metadata": {}
  }
 ]
}